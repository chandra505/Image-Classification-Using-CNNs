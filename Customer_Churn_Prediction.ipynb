{
  "nbformat": 4,
  "nbformat_minor": 0,
  "metadata": {
    "colab": {
      "provenance": [],
      "gpuType": "T4"
    },
    "kernelspec": {
      "name": "python3",
      "display_name": "Python 3"
    },
    "language_info": {
      "name": "python"
    },
    "accelerator": "GPU"
  },
  "cells": [
    {
      "cell_type": "code",
      "execution_count": 1,
      "metadata": {
        "colab": {
          "base_uri": "https://localhost:8080/"
        },
        "id": "9xV7wu4X4cI5",
        "outputId": "b4dad7fb-48e0-4ecc-c8c7-60e6397e0a8e"
      },
      "outputs": [
        {
          "output_type": "stream",
          "name": "stdout",
          "text": [
            "  Invoice StockCode                          Description  Quantity  \\\n",
            "0  489434     85048  15CM CHRISTMAS GLASS BALL 20 LIGHTS        12   \n",
            "1  489434    79323P                   PINK CHERRY LIGHTS        12   \n",
            "2  489434    79323W                  WHITE CHERRY LIGHTS        12   \n",
            "3  489434     22041         RECORD FRAME 7\" SINGLE SIZE         48   \n",
            "4  489434     21232       STRAWBERRY CERAMIC TRINKET BOX        24   \n",
            "\n",
            "      InvoiceDate  Price  Customer ID         Country  \n",
            "0  12/1/2009 7:45   6.95      13085.0  United Kingdom  \n",
            "1  12/1/2009 7:45   6.75      13085.0  United Kingdom  \n",
            "2  12/1/2009 7:45   6.75      13085.0  United Kingdom  \n",
            "3  12/1/2009 7:45   2.10      13085.0  United Kingdom  \n",
            "4  12/1/2009 7:45   1.25      13085.0  United Kingdom  \n"
          ]
        }
      ],
      "source": [
        "import pandas as pd\n",
        "\n",
        "# Load the CSV file\n",
        "file_path = '/content/online_retail_II 2.csv'\n",
        "df = pd.read_csv(file_path)\n",
        "\n",
        "\n",
        "print(df.head())\n"
      ]
    },
    {
      "cell_type": "code",
      "source": [
        "# Remove missing values\n",
        "df = df.dropna()\n",
        "\n",
        "# Create a new column 'TotalPrice' to represent the total spent in each transaction\n",
        "df['TotalPrice'] = df['Quantity'] * df['Price']\n",
        "\n",
        "# Group by 'CustomerID' and calculate useful features (Total Spend, Frequency, Recency)\n",
        "df['InvoiceDate'] = pd.to_datetime(df['InvoiceDate'])\n",
        "\n",
        "customer_data = df.groupby('Customer ID').agg(\n",
        "    total_spent=('TotalPrice', 'sum'),\n",
        "    frequency=('Invoice', 'nunique'),\n",
        "    recency=('InvoiceDate', 'max')\n",
        ")\n",
        "\n",
        "# Calculate recency in terms of days since last purchase\n",
        "import datetime\n",
        "customer_data['recency'] = (datetime.datetime.now() - customer_data['recency']).dt.days\n",
        "\n",
        "# Display the first few rows to check the processed data\n",
        "print(customer_data.head())\n"
      ],
      "metadata": {
        "colab": {
          "base_uri": "https://localhost:8080/"
        },
        "id": "B6-wGO2A8sS2",
        "outputId": "1c94ffe3-6889-4485-ec42-552b759bda8a"
      },
      "execution_count": 2,
      "outputs": [
        {
          "output_type": "stream",
          "name": "stdout",
          "text": [
            "             total_spent  frequency  recency\n",
            "Customer ID                                 \n",
            "12346.0           -64.68         15     5290\n",
            "12347.0          1323.32          2     5226\n",
            "12348.0           222.16          1     5297\n",
            "12349.0          2646.99          4     5266\n",
            "12351.0           300.93          1     5234\n"
          ]
        },
        {
          "output_type": "stream",
          "name": "stderr",
          "text": [
            "<ipython-input-2-763d89dcab2f>:5: SettingWithCopyWarning: \n",
            "A value is trying to be set on a copy of a slice from a DataFrame.\n",
            "Try using .loc[row_indexer,col_indexer] = value instead\n",
            "\n",
            "See the caveats in the documentation: https://pandas.pydata.org/pandas-docs/stable/user_guide/indexing.html#returning-a-view-versus-a-copy\n",
            "  df['TotalPrice'] = df['Quantity'] * df['Price']\n",
            "<ipython-input-2-763d89dcab2f>:8: SettingWithCopyWarning: \n",
            "A value is trying to be set on a copy of a slice from a DataFrame.\n",
            "Try using .loc[row_indexer,col_indexer] = value instead\n",
            "\n",
            "See the caveats in the documentation: https://pandas.pydata.org/pandas-docs/stable/user_guide/indexing.html#returning-a-view-versus-a-copy\n",
            "  df['InvoiceDate'] = pd.to_datetime(df['InvoiceDate'])\n"
          ]
        }
      ]
    },
    {
      "cell_type": "code",
      "source": [
        "from sklearn.model_selection import train_test_split\n",
        "from sklearn.preprocessing import StandardScaler\n",
        "\n",
        "# Define features and target\n",
        "X = customer_data[['total_spent', 'frequency', 'recency']]\n",
        "y = customer_data['total_spent']  # CLV prediction is based on total spending\n",
        "\n",
        "# Split the data into training and testing sets\n",
        "X_train, X_test, y_train, y_test = train_test_split(X, y, test_size=0.2, random_state=42)\n",
        "\n",
        "# Scale the features\n",
        "scaler = StandardScaler()\n",
        "X_train = scaler.fit_transform(X_train)\n",
        "X_test = scaler.transform(X_test)\n"
      ],
      "metadata": {
        "id": "1QOJi-i9_Ek0"
      },
      "execution_count": 3,
      "outputs": []
    },
    {
      "cell_type": "code",
      "source": [
        "import tensorflow as tf\n",
        "from tensorflow.keras import layers, models\n",
        "\n",
        "# Build a simple regression model\n",
        "def clv_regression_model(input_shape):\n",
        "    model = models.Sequential([\n",
        "        layers.Dense(128, activation='relu', input_shape=(input_shape,)),\n",
        "        layers.Dense(64, activation='relu'),\n",
        "        layers.Dropout(0.2),\n",
        "        layers.Dense(32, activation='relu'),\n",
        "        layers.Dense(1)\n",
        "    ])\n",
        "    model.compile(optimizer=tf.keras.optimizers.Adam(learning_rate=0.001), loss='mae', metrics=['mae'])\n",
        "    return model\n",
        "\n",
        "# Create the model\n",
        "model = clv_regression_model(X_train.shape[1])\n",
        "\n",
        "# Train the model\n",
        "history = model.fit(X_train, y_train, epochs=100, batch_size=32, validation_data=(X_test, y_test))\n",
        "\n",
        "# Evaluate the model\n",
        "loss, mae = model.evaluate(X_test, y_test)\n",
        "print(f'Mean Absolute Error on test data: {mae}')\n",
        "\n",
        "\n",
        "\n"
      ],
      "metadata": {
        "colab": {
          "base_uri": "https://localhost:8080/"
        },
        "id": "lBLhVC1c7_HP",
        "outputId": "946a6d19-78dd-4935-b2b3-32c82df4ac0d"
      },
      "execution_count": 12,
      "outputs": [
        {
          "output_type": "stream",
          "name": "stdout",
          "text": [
            "Epoch 1/100\n"
          ]
        },
        {
          "output_type": "stream",
          "name": "stderr",
          "text": [
            "/usr/local/lib/python3.11/dist-packages/keras/src/layers/core/dense.py:87: UserWarning: Do not pass an `input_shape`/`input_dim` argument to a layer. When using Sequential models, prefer using an `Input(shape)` object as the first layer in the model instead.\n",
            "  super().__init__(activity_regularizer=activity_regularizer, **kwargs)\n"
          ]
        },
        {
          "output_type": "stream",
          "name": "stdout",
          "text": [
            "\u001b[1m110/110\u001b[0m \u001b[32m━━━━━━━━━━━━━━━━━━━━\u001b[0m\u001b[37m\u001b[0m \u001b[1m4s\u001b[0m 18ms/step - loss: 1822.6940 - mae: 1822.6940 - val_loss: 2131.4395 - val_mae: 2131.4395\n",
            "Epoch 2/100\n",
            "\u001b[1m110/110\u001b[0m \u001b[32m━━━━━━━━━━━━━━━━━━━━\u001b[0m\u001b[37m\u001b[0m \u001b[1m0s\u001b[0m 3ms/step - loss: 2067.1296 - mae: 2067.1296 - val_loss: 2131.4392 - val_mae: 2131.4392\n",
            "Epoch 3/100\n",
            "\u001b[1m110/110\u001b[0m \u001b[32m━━━━━━━━━━━━━━━━━━━━\u001b[0m\u001b[37m\u001b[0m \u001b[1m1s\u001b[0m 3ms/step - loss: 2025.8802 - mae: 2025.8802 - val_loss: 2131.4390 - val_mae: 2131.4390\n",
            "Epoch 4/100\n",
            "\u001b[1m110/110\u001b[0m \u001b[32m━━━━━━━━━━━━━━━━━━━━\u001b[0m\u001b[37m\u001b[0m \u001b[1m0s\u001b[0m 3ms/step - loss: 1801.7812 - mae: 1801.7812 - val_loss: 2131.4390 - val_mae: 2131.4390\n",
            "Epoch 5/100\n",
            "\u001b[1m110/110\u001b[0m \u001b[32m━━━━━━━━━━━━━━━━━━━━\u001b[0m\u001b[37m\u001b[0m \u001b[1m0s\u001b[0m 3ms/step - loss: 1865.5254 - mae: 1865.5254 - val_loss: 2131.4390 - val_mae: 2131.4390\n",
            "Epoch 6/100\n",
            "\u001b[1m110/110\u001b[0m \u001b[32m━━━━━━━━━━━━━━━━━━━━\u001b[0m\u001b[37m\u001b[0m \u001b[1m1s\u001b[0m 3ms/step - loss: 1707.9735 - mae: 1707.9735 - val_loss: 2131.4390 - val_mae: 2131.4390\n",
            "Epoch 7/100\n",
            "\u001b[1m110/110\u001b[0m \u001b[32m━━━━━━━━━━━━━━━━━━━━\u001b[0m\u001b[37m\u001b[0m \u001b[1m0s\u001b[0m 3ms/step - loss: 1957.9363 - mae: 1957.9363 - val_loss: 2131.4390 - val_mae: 2131.4390\n",
            "Epoch 8/100\n",
            "\u001b[1m110/110\u001b[0m \u001b[32m━━━━━━━━━━━━━━━━━━━━\u001b[0m\u001b[37m\u001b[0m \u001b[1m1s\u001b[0m 3ms/step - loss: 1832.9897 - mae: 1832.9897 - val_loss: 2131.4390 - val_mae: 2131.4390\n",
            "Epoch 9/100\n",
            "\u001b[1m110/110\u001b[0m \u001b[32m━━━━━━━━━━━━━━━━━━━━\u001b[0m\u001b[37m\u001b[0m \u001b[1m1s\u001b[0m 4ms/step - loss: 2166.1465 - mae: 2166.1465 - val_loss: 2131.4390 - val_mae: 2131.4390\n",
            "Epoch 10/100\n",
            "\u001b[1m110/110\u001b[0m \u001b[32m━━━━━━━━━━━━━━━━━━━━\u001b[0m\u001b[37m\u001b[0m \u001b[1m1s\u001b[0m 3ms/step - loss: 2133.0010 - mae: 2133.0010 - val_loss: 2131.4390 - val_mae: 2131.4390\n",
            "Epoch 11/100\n",
            "\u001b[1m110/110\u001b[0m \u001b[32m━━━━━━━━━━━━━━━━━━━━\u001b[0m\u001b[37m\u001b[0m \u001b[1m1s\u001b[0m 3ms/step - loss: 2014.5690 - mae: 2014.5690 - val_loss: 2131.4390 - val_mae: 2131.4390\n",
            "Epoch 12/100\n",
            "\u001b[1m110/110\u001b[0m \u001b[32m━━━━━━━━━━━━━━━━━━━━\u001b[0m\u001b[37m\u001b[0m \u001b[1m0s\u001b[0m 3ms/step - loss: 1866.2783 - mae: 1866.2783 - val_loss: 2131.4390 - val_mae: 2131.4390\n",
            "Epoch 13/100\n",
            "\u001b[1m110/110\u001b[0m \u001b[32m━━━━━━━━━━━━━━━━━━━━\u001b[0m\u001b[37m\u001b[0m \u001b[1m1s\u001b[0m 3ms/step - loss: 1803.2772 - mae: 1803.2772 - val_loss: 2131.4390 - val_mae: 2131.4390\n",
            "Epoch 14/100\n",
            "\u001b[1m110/110\u001b[0m \u001b[32m━━━━━━━━━━━━━━━━━━━━\u001b[0m\u001b[37m\u001b[0m \u001b[1m1s\u001b[0m 5ms/step - loss: 1998.8032 - mae: 1998.8032 - val_loss: 2131.4390 - val_mae: 2131.4390\n",
            "Epoch 15/100\n",
            "\u001b[1m110/110\u001b[0m \u001b[32m━━━━━━━━━━━━━━━━━━━━\u001b[0m\u001b[37m\u001b[0m \u001b[1m1s\u001b[0m 5ms/step - loss: 1732.1650 - mae: 1732.1650 - val_loss: 2131.4390 - val_mae: 2131.4390\n",
            "Epoch 16/100\n",
            "\u001b[1m110/110\u001b[0m \u001b[32m━━━━━━━━━━━━━━━━━━━━\u001b[0m\u001b[37m\u001b[0m \u001b[1m1s\u001b[0m 5ms/step - loss: 1932.2084 - mae: 1932.2084 - val_loss: 2131.4390 - val_mae: 2131.4390\n",
            "Epoch 17/100\n",
            "\u001b[1m110/110\u001b[0m \u001b[32m━━━━━━━━━━━━━━━━━━━━\u001b[0m\u001b[37m\u001b[0m \u001b[1m1s\u001b[0m 4ms/step - loss: 2125.0269 - mae: 2125.0269 - val_loss: 2131.4390 - val_mae: 2131.4390\n",
            "Epoch 18/100\n",
            "\u001b[1m110/110\u001b[0m \u001b[32m━━━━━━━━━━━━━━━━━━━━\u001b[0m\u001b[37m\u001b[0m \u001b[1m0s\u001b[0m 4ms/step - loss: 1931.1794 - mae: 1931.1794 - val_loss: 2131.4390 - val_mae: 2131.4390\n",
            "Epoch 19/100\n",
            "\u001b[1m110/110\u001b[0m \u001b[32m━━━━━━━━━━━━━━━━━━━━\u001b[0m\u001b[37m\u001b[0m \u001b[1m1s\u001b[0m 4ms/step - loss: 2180.6013 - mae: 2180.6013 - val_loss: 2131.4390 - val_mae: 2131.4390\n",
            "Epoch 20/100\n",
            "\u001b[1m110/110\u001b[0m \u001b[32m━━━━━━━━━━━━━━━━━━━━\u001b[0m\u001b[37m\u001b[0m \u001b[1m0s\u001b[0m 3ms/step - loss: 1880.0023 - mae: 1880.0023 - val_loss: 2131.4390 - val_mae: 2131.4390\n",
            "Epoch 21/100\n",
            "\u001b[1m110/110\u001b[0m \u001b[32m━━━━━━━━━━━━━━━━━━━━\u001b[0m\u001b[37m\u001b[0m \u001b[1m1s\u001b[0m 4ms/step - loss: 1824.7832 - mae: 1824.7832 - val_loss: 2131.4390 - val_mae: 2131.4390\n",
            "Epoch 22/100\n",
            "\u001b[1m110/110\u001b[0m \u001b[32m━━━━━━━━━━━━━━━━━━━━\u001b[0m\u001b[37m\u001b[0m \u001b[1m0s\u001b[0m 3ms/step - loss: 2124.5845 - mae: 2124.5845 - val_loss: 2131.4390 - val_mae: 2131.4390\n",
            "Epoch 23/100\n",
            "\u001b[1m110/110\u001b[0m \u001b[32m━━━━━━━━━━━━━━━━━━━━\u001b[0m\u001b[37m\u001b[0m \u001b[1m1s\u001b[0m 4ms/step - loss: 2008.6079 - mae: 2008.6079 - val_loss: 2131.4390 - val_mae: 2131.4390\n",
            "Epoch 24/100\n",
            "\u001b[1m110/110\u001b[0m \u001b[32m━━━━━━━━━━━━━━━━━━━━\u001b[0m\u001b[37m\u001b[0m \u001b[1m1s\u001b[0m 4ms/step - loss: 2021.5648 - mae: 2021.5648 - val_loss: 2131.4390 - val_mae: 2131.4390\n",
            "Epoch 25/100\n",
            "\u001b[1m110/110\u001b[0m \u001b[32m━━━━━━━━━━━━━━━━━━━━\u001b[0m\u001b[37m\u001b[0m \u001b[1m1s\u001b[0m 3ms/step - loss: 2013.9576 - mae: 2013.9576 - val_loss: 2131.4390 - val_mae: 2131.4390\n",
            "Epoch 26/100\n",
            "\u001b[1m110/110\u001b[0m \u001b[32m━━━━━━━━━━━━━━━━━━━━\u001b[0m\u001b[37m\u001b[0m \u001b[1m1s\u001b[0m 3ms/step - loss: 2045.1927 - mae: 2045.1927 - val_loss: 2131.4390 - val_mae: 2131.4390\n",
            "Epoch 27/100\n",
            "\u001b[1m110/110\u001b[0m \u001b[32m━━━━━━━━━━━━━━━━━━━━\u001b[0m\u001b[37m\u001b[0m \u001b[1m1s\u001b[0m 3ms/step - loss: 1924.4932 - mae: 1924.4932 - val_loss: 2131.4390 - val_mae: 2131.4390\n",
            "Epoch 28/100\n",
            "\u001b[1m110/110\u001b[0m \u001b[32m━━━━━━━━━━━━━━━━━━━━\u001b[0m\u001b[37m\u001b[0m \u001b[1m1s\u001b[0m 4ms/step - loss: 1914.6049 - mae: 1914.6049 - val_loss: 2131.4390 - val_mae: 2131.4390\n",
            "Epoch 29/100\n",
            "\u001b[1m110/110\u001b[0m \u001b[32m━━━━━━━━━━━━━━━━━━━━\u001b[0m\u001b[37m\u001b[0m \u001b[1m0s\u001b[0m 4ms/step - loss: 1831.6652 - mae: 1831.6652 - val_loss: 2131.4390 - val_mae: 2131.4390\n",
            "Epoch 30/100\n",
            "\u001b[1m110/110\u001b[0m \u001b[32m━━━━━━━━━━━━━━━━━━━━\u001b[0m\u001b[37m\u001b[0m \u001b[1m1s\u001b[0m 3ms/step - loss: 1809.4058 - mae: 1809.4058 - val_loss: 2131.4390 - val_mae: 2131.4390\n",
            "Epoch 31/100\n",
            "\u001b[1m110/110\u001b[0m \u001b[32m━━━━━━━━━━━━━━━━━━━━\u001b[0m\u001b[37m\u001b[0m \u001b[1m1s\u001b[0m 4ms/step - loss: 1800.4720 - mae: 1800.4720 - val_loss: 2131.4390 - val_mae: 2131.4390\n",
            "Epoch 32/100\n",
            "\u001b[1m110/110\u001b[0m \u001b[32m━━━━━━━━━━━━━━━━━━━━\u001b[0m\u001b[37m\u001b[0m \u001b[1m1s\u001b[0m 3ms/step - loss: 1807.1156 - mae: 1807.1156 - val_loss: 2131.4390 - val_mae: 2131.4390\n",
            "Epoch 33/100\n",
            "\u001b[1m110/110\u001b[0m \u001b[32m━━━━━━━━━━━━━━━━━━━━\u001b[0m\u001b[37m\u001b[0m \u001b[1m1s\u001b[0m 3ms/step - loss: 1755.5399 - mae: 1755.5399 - val_loss: 2131.4390 - val_mae: 2131.4390\n",
            "Epoch 34/100\n",
            "\u001b[1m110/110\u001b[0m \u001b[32m━━━━━━━━━━━━━━━━━━━━\u001b[0m\u001b[37m\u001b[0m \u001b[1m0s\u001b[0m 3ms/step - loss: 1854.0033 - mae: 1854.0033 - val_loss: 2131.4390 - val_mae: 2131.4390\n",
            "Epoch 35/100\n",
            "\u001b[1m110/110\u001b[0m \u001b[32m━━━━━━━━━━━━━━━━━━━━\u001b[0m\u001b[37m\u001b[0m \u001b[1m1s\u001b[0m 5ms/step - loss: 1885.9492 - mae: 1885.9492 - val_loss: 2131.4390 - val_mae: 2131.4390\n",
            "Epoch 36/100\n",
            "\u001b[1m110/110\u001b[0m \u001b[32m━━━━━━━━━━━━━━━━━━━━\u001b[0m\u001b[37m\u001b[0m \u001b[1m1s\u001b[0m 5ms/step - loss: 1798.7179 - mae: 1798.7179 - val_loss: 2131.4390 - val_mae: 2131.4390\n",
            "Epoch 37/100\n",
            "\u001b[1m110/110\u001b[0m \u001b[32m━━━━━━━━━━━━━━━━━━━━\u001b[0m\u001b[37m\u001b[0m \u001b[1m1s\u001b[0m 5ms/step - loss: 2065.5244 - mae: 2065.5244 - val_loss: 2131.4390 - val_mae: 2131.4390\n",
            "Epoch 38/100\n",
            "\u001b[1m110/110\u001b[0m \u001b[32m━━━━━━━━━━━━━━━━━━━━\u001b[0m\u001b[37m\u001b[0m \u001b[1m1s\u001b[0m 4ms/step - loss: 1911.4520 - mae: 1911.4520 - val_loss: 2131.4390 - val_mae: 2131.4390\n",
            "Epoch 39/100\n",
            "\u001b[1m110/110\u001b[0m \u001b[32m━━━━━━━━━━━━━━━━━━━━\u001b[0m\u001b[37m\u001b[0m \u001b[1m1s\u001b[0m 3ms/step - loss: 1957.2958 - mae: 1957.2958 - val_loss: 2131.4390 - val_mae: 2131.4390\n",
            "Epoch 40/100\n",
            "\u001b[1m110/110\u001b[0m \u001b[32m━━━━━━━━━━━━━━━━━━━━\u001b[0m\u001b[37m\u001b[0m \u001b[1m1s\u001b[0m 3ms/step - loss: 2274.3474 - mae: 2274.3474 - val_loss: 2131.4390 - val_mae: 2131.4390\n",
            "Epoch 41/100\n",
            "\u001b[1m110/110\u001b[0m \u001b[32m━━━━━━━━━━━━━━━━━━━━\u001b[0m\u001b[37m\u001b[0m \u001b[1m0s\u001b[0m 3ms/step - loss: 2259.4810 - mae: 2259.4810 - val_loss: 2131.4390 - val_mae: 2131.4390\n",
            "Epoch 42/100\n",
            "\u001b[1m110/110\u001b[0m \u001b[32m━━━━━━━━━━━━━━━━━━━━\u001b[0m\u001b[37m\u001b[0m \u001b[1m0s\u001b[0m 3ms/step - loss: 1878.8221 - mae: 1878.8221 - val_loss: 2131.4390 - val_mae: 2131.4390\n",
            "Epoch 43/100\n",
            "\u001b[1m110/110\u001b[0m \u001b[32m━━━━━━━━━━━━━━━━━━━━\u001b[0m\u001b[37m\u001b[0m \u001b[1m0s\u001b[0m 3ms/step - loss: 1956.6864 - mae: 1956.6864 - val_loss: 2131.4390 - val_mae: 2131.4390\n",
            "Epoch 44/100\n",
            "\u001b[1m110/110\u001b[0m \u001b[32m━━━━━━━━━━━━━━━━━━━━\u001b[0m\u001b[37m\u001b[0m \u001b[1m0s\u001b[0m 4ms/step - loss: 1964.1119 - mae: 1964.1119 - val_loss: 2131.4390 - val_mae: 2131.4390\n",
            "Epoch 45/100\n",
            "\u001b[1m110/110\u001b[0m \u001b[32m━━━━━━━━━━━━━━━━━━━━\u001b[0m\u001b[37m\u001b[0m \u001b[1m0s\u001b[0m 3ms/step - loss: 1943.8994 - mae: 1943.8994 - val_loss: 2131.4390 - val_mae: 2131.4390\n",
            "Epoch 46/100\n",
            "\u001b[1m110/110\u001b[0m \u001b[32m━━━━━━━━━━━━━━━━━━━━\u001b[0m\u001b[37m\u001b[0m \u001b[1m0s\u001b[0m 3ms/step - loss: 1745.0101 - mae: 1745.0101 - val_loss: 2131.4390 - val_mae: 2131.4390\n",
            "Epoch 47/100\n",
            "\u001b[1m110/110\u001b[0m \u001b[32m━━━━━━━━━━━━━━━━━━━━\u001b[0m\u001b[37m\u001b[0m \u001b[1m0s\u001b[0m 4ms/step - loss: 1857.5935 - mae: 1857.5935 - val_loss: 2131.4390 - val_mae: 2131.4390\n",
            "Epoch 48/100\n",
            "\u001b[1m110/110\u001b[0m \u001b[32m━━━━━━━━━━━━━━━━━━━━\u001b[0m\u001b[37m\u001b[0m \u001b[1m1s\u001b[0m 4ms/step - loss: 2187.2217 - mae: 2187.2217 - val_loss: 2131.4390 - val_mae: 2131.4390\n",
            "Epoch 49/100\n",
            "\u001b[1m110/110\u001b[0m \u001b[32m━━━━━━━━━━━━━━━━━━━━\u001b[0m\u001b[37m\u001b[0m \u001b[1m1s\u001b[0m 3ms/step - loss: 2017.5767 - mae: 2017.5767 - val_loss: 2131.4390 - val_mae: 2131.4390\n",
            "Epoch 50/100\n",
            "\u001b[1m110/110\u001b[0m \u001b[32m━━━━━━━━━━━━━━━━━━━━\u001b[0m\u001b[37m\u001b[0m \u001b[1m1s\u001b[0m 3ms/step - loss: 1908.6388 - mae: 1908.6388 - val_loss: 2131.4390 - val_mae: 2131.4390\n",
            "Epoch 51/100\n",
            "\u001b[1m110/110\u001b[0m \u001b[32m━━━━━━━━━━━━━━━━━━━━\u001b[0m\u001b[37m\u001b[0m \u001b[1m0s\u001b[0m 3ms/step - loss: 2005.8086 - mae: 2005.8086 - val_loss: 2131.4390 - val_mae: 2131.4390\n",
            "Epoch 52/100\n",
            "\u001b[1m110/110\u001b[0m \u001b[32m━━━━━━━━━━━━━━━━━━━━\u001b[0m\u001b[37m\u001b[0m \u001b[1m1s\u001b[0m 3ms/step - loss: 1914.6892 - mae: 1914.6892 - val_loss: 2131.4390 - val_mae: 2131.4390\n",
            "Epoch 53/100\n",
            "\u001b[1m110/110\u001b[0m \u001b[32m━━━━━━━━━━━━━━━━━━━━\u001b[0m\u001b[37m\u001b[0m \u001b[1m1s\u001b[0m 4ms/step - loss: 1784.3594 - mae: 1784.3594 - val_loss: 2131.4390 - val_mae: 2131.4390\n",
            "Epoch 54/100\n",
            "\u001b[1m110/110\u001b[0m \u001b[32m━━━━━━━━━━━━━━━━━━━━\u001b[0m\u001b[37m\u001b[0m \u001b[1m0s\u001b[0m 3ms/step - loss: 2091.2529 - mae: 2091.2529 - val_loss: 2131.4390 - val_mae: 2131.4390\n",
            "Epoch 55/100\n",
            "\u001b[1m110/110\u001b[0m \u001b[32m━━━━━━━━━━━━━━━━━━━━\u001b[0m\u001b[37m\u001b[0m \u001b[1m1s\u001b[0m 3ms/step - loss: 1680.0865 - mae: 1680.0865 - val_loss: 2131.4390 - val_mae: 2131.4390\n",
            "Epoch 56/100\n",
            "\u001b[1m110/110\u001b[0m \u001b[32m━━━━━━━━━━━━━━━━━━━━\u001b[0m\u001b[37m\u001b[0m \u001b[1m1s\u001b[0m 4ms/step - loss: 1998.6959 - mae: 1998.6959 - val_loss: 2131.4390 - val_mae: 2131.4390\n",
            "Epoch 57/100\n",
            "\u001b[1m110/110\u001b[0m \u001b[32m━━━━━━━━━━━━━━━━━━━━\u001b[0m\u001b[37m\u001b[0m \u001b[1m1s\u001b[0m 5ms/step - loss: 1772.8795 - mae: 1772.8795 - val_loss: 2131.4390 - val_mae: 2131.4390\n",
            "Epoch 58/100\n",
            "\u001b[1m110/110\u001b[0m \u001b[32m━━━━━━━━━━━━━━━━━━━━\u001b[0m\u001b[37m\u001b[0m \u001b[1m1s\u001b[0m 5ms/step - loss: 1888.9409 - mae: 1888.9409 - val_loss: 2131.4390 - val_mae: 2131.4390\n",
            "Epoch 59/100\n",
            "\u001b[1m110/110\u001b[0m \u001b[32m━━━━━━━━━━━━━━━━━━━━\u001b[0m\u001b[37m\u001b[0m \u001b[1m1s\u001b[0m 5ms/step - loss: 2069.4512 - mae: 2069.4512 - val_loss: 2131.4390 - val_mae: 2131.4390\n",
            "Epoch 60/100\n",
            "\u001b[1m110/110\u001b[0m \u001b[32m━━━━━━━━━━━━━━━━━━━━\u001b[0m\u001b[37m\u001b[0m \u001b[1m1s\u001b[0m 4ms/step - loss: 1813.5463 - mae: 1813.5463 - val_loss: 2131.4390 - val_mae: 2131.4390\n",
            "Epoch 61/100\n",
            "\u001b[1m110/110\u001b[0m \u001b[32m━━━━━━━━━━━━━━━━━━━━\u001b[0m\u001b[37m\u001b[0m \u001b[1m0s\u001b[0m 3ms/step - loss: 1905.2372 - mae: 1905.2372 - val_loss: 2131.4390 - val_mae: 2131.4390\n",
            "Epoch 62/100\n",
            "\u001b[1m110/110\u001b[0m \u001b[32m━━━━━━━━━━━━━━━━━━━━\u001b[0m\u001b[37m\u001b[0m \u001b[1m0s\u001b[0m 4ms/step - loss: 1896.3325 - mae: 1896.3325 - val_loss: 2131.4390 - val_mae: 2131.4390\n",
            "Epoch 63/100\n",
            "\u001b[1m110/110\u001b[0m \u001b[32m━━━━━━━━━━━━━━━━━━━━\u001b[0m\u001b[37m\u001b[0m \u001b[1m0s\u001b[0m 4ms/step - loss: 1835.9026 - mae: 1835.9026 - val_loss: 2131.4390 - val_mae: 2131.4390\n",
            "Epoch 64/100\n",
            "\u001b[1m110/110\u001b[0m \u001b[32m━━━━━━━━━━━━━━━━━━━━\u001b[0m\u001b[37m\u001b[0m \u001b[1m1s\u001b[0m 3ms/step - loss: 1673.6267 - mae: 1673.6267 - val_loss: 2131.4390 - val_mae: 2131.4390\n",
            "Epoch 65/100\n",
            "\u001b[1m110/110\u001b[0m \u001b[32m━━━━━━━━━━━━━━━━━━━━\u001b[0m\u001b[37m\u001b[0m \u001b[1m0s\u001b[0m 4ms/step - loss: 2045.1362 - mae: 2045.1362 - val_loss: 2131.4390 - val_mae: 2131.4390\n",
            "Epoch 66/100\n",
            "\u001b[1m110/110\u001b[0m \u001b[32m━━━━━━━━━━━━━━━━━━━━\u001b[0m\u001b[37m\u001b[0m \u001b[1m0s\u001b[0m 4ms/step - loss: 1909.3672 - mae: 1909.3672 - val_loss: 2131.4390 - val_mae: 2131.4390\n",
            "Epoch 67/100\n",
            "\u001b[1m110/110\u001b[0m \u001b[32m━━━━━━━━━━━━━━━━━━━━\u001b[0m\u001b[37m\u001b[0m \u001b[1m0s\u001b[0m 3ms/step - loss: 1791.1310 - mae: 1791.1310 - val_loss: 2131.4390 - val_mae: 2131.4390\n",
            "Epoch 68/100\n",
            "\u001b[1m110/110\u001b[0m \u001b[32m━━━━━━━━━━━━━━━━━━━━\u001b[0m\u001b[37m\u001b[0m \u001b[1m1s\u001b[0m 3ms/step - loss: 1738.2532 - mae: 1738.2532 - val_loss: 2131.4390 - val_mae: 2131.4390\n",
            "Epoch 69/100\n",
            "\u001b[1m110/110\u001b[0m \u001b[32m━━━━━━━━━━━━━━━━━━━━\u001b[0m\u001b[37m\u001b[0m \u001b[1m0s\u001b[0m 3ms/step - loss: 1952.9749 - mae: 1952.9749 - val_loss: 2131.4390 - val_mae: 2131.4390\n",
            "Epoch 70/100\n",
            "\u001b[1m110/110\u001b[0m \u001b[32m━━━━━━━━━━━━━━━━━━━━\u001b[0m\u001b[37m\u001b[0m \u001b[1m0s\u001b[0m 3ms/step - loss: 2020.3248 - mae: 2020.3248 - val_loss: 2131.4390 - val_mae: 2131.4390\n",
            "Epoch 71/100\n",
            "\u001b[1m110/110\u001b[0m \u001b[32m━━━━━━━━━━━━━━━━━━━━\u001b[0m\u001b[37m\u001b[0m \u001b[1m1s\u001b[0m 4ms/step - loss: 2075.2585 - mae: 2075.2585 - val_loss: 2131.4390 - val_mae: 2131.4390\n",
            "Epoch 72/100\n",
            "\u001b[1m110/110\u001b[0m \u001b[32m━━━━━━━━━━━━━━━━━━━━\u001b[0m\u001b[37m\u001b[0m \u001b[1m1s\u001b[0m 3ms/step - loss: 1790.2216 - mae: 1790.2216 - val_loss: 2131.4390 - val_mae: 2131.4390\n",
            "Epoch 73/100\n",
            "\u001b[1m110/110\u001b[0m \u001b[32m━━━━━━━━━━━━━━━━━━━━\u001b[0m\u001b[37m\u001b[0m \u001b[1m1s\u001b[0m 3ms/step - loss: 2123.5996 - mae: 2123.5996 - val_loss: 2131.4390 - val_mae: 2131.4390\n",
            "Epoch 74/100\n",
            "\u001b[1m110/110\u001b[0m \u001b[32m━━━━━━━━━━━━━━━━━━━━\u001b[0m\u001b[37m\u001b[0m \u001b[1m0s\u001b[0m 3ms/step - loss: 1852.2352 - mae: 1852.2352 - val_loss: 2131.4390 - val_mae: 2131.4390\n",
            "Epoch 75/100\n",
            "\u001b[1m110/110\u001b[0m \u001b[32m━━━━━━━━━━━━━━━━━━━━\u001b[0m\u001b[37m\u001b[0m \u001b[1m0s\u001b[0m 3ms/step - loss: 1799.3901 - mae: 1799.3901 - val_loss: 2131.4390 - val_mae: 2131.4390\n",
            "Epoch 76/100\n",
            "\u001b[1m110/110\u001b[0m \u001b[32m━━━━━━━━━━━━━━━━━━━━\u001b[0m\u001b[37m\u001b[0m \u001b[1m1s\u001b[0m 4ms/step - loss: 1896.2856 - mae: 1896.2856 - val_loss: 2131.4390 - val_mae: 2131.4390\n",
            "Epoch 77/100\n",
            "\u001b[1m110/110\u001b[0m \u001b[32m━━━━━━━━━━━━━━━━━━━━\u001b[0m\u001b[37m\u001b[0m \u001b[1m1s\u001b[0m 3ms/step - loss: 1769.1162 - mae: 1769.1162 - val_loss: 2131.4390 - val_mae: 2131.4390\n",
            "Epoch 78/100\n",
            "\u001b[1m110/110\u001b[0m \u001b[32m━━━━━━━━━━━━━━━━━━━━\u001b[0m\u001b[37m\u001b[0m \u001b[1m0s\u001b[0m 4ms/step - loss: 1803.0841 - mae: 1803.0841 - val_loss: 2131.4390 - val_mae: 2131.4390\n",
            "Epoch 79/100\n",
            "\u001b[1m110/110\u001b[0m \u001b[32m━━━━━━━━━━━━━━━━━━━━\u001b[0m\u001b[37m\u001b[0m \u001b[1m0s\u001b[0m 3ms/step - loss: 2011.2065 - mae: 2011.2065 - val_loss: 2131.4390 - val_mae: 2131.4390\n",
            "Epoch 80/100\n",
            "\u001b[1m110/110\u001b[0m \u001b[32m━━━━━━━━━━━━━━━━━━━━\u001b[0m\u001b[37m\u001b[0m \u001b[1m0s\u001b[0m 3ms/step - loss: 2038.8640 - mae: 2038.8640 - val_loss: 2131.4390 - val_mae: 2131.4390\n",
            "Epoch 81/100\n",
            "\u001b[1m110/110\u001b[0m \u001b[32m━━━━━━━━━━━━━━━━━━━━\u001b[0m\u001b[37m\u001b[0m \u001b[1m1s\u001b[0m 5ms/step - loss: 2080.8586 - mae: 2080.8586 - val_loss: 2131.4390 - val_mae: 2131.4390\n",
            "Epoch 82/100\n",
            "\u001b[1m110/110\u001b[0m \u001b[32m━━━━━━━━━━━━━━━━━━━━\u001b[0m\u001b[37m\u001b[0m \u001b[1m1s\u001b[0m 5ms/step - loss: 2144.0356 - mae: 2144.0356 - val_loss: 2131.4390 - val_mae: 2131.4390\n",
            "Epoch 83/100\n",
            "\u001b[1m110/110\u001b[0m \u001b[32m━━━━━━━━━━━━━━━━━━━━\u001b[0m\u001b[37m\u001b[0m \u001b[1m1s\u001b[0m 5ms/step - loss: 1848.8717 - mae: 1848.8717 - val_loss: 2131.4390 - val_mae: 2131.4390\n",
            "Epoch 84/100\n",
            "\u001b[1m110/110\u001b[0m \u001b[32m━━━━━━━━━━━━━━━━━━━━\u001b[0m\u001b[37m\u001b[0m \u001b[1m1s\u001b[0m 5ms/step - loss: 1731.7500 - mae: 1731.7500 - val_loss: 2131.4390 - val_mae: 2131.4390\n",
            "Epoch 85/100\n",
            "\u001b[1m110/110\u001b[0m \u001b[32m━━━━━━━━━━━━━━━━━━━━\u001b[0m\u001b[37m\u001b[0m \u001b[1m0s\u001b[0m 3ms/step - loss: 1845.7385 - mae: 1845.7385 - val_loss: 2131.4390 - val_mae: 2131.4390\n",
            "Epoch 86/100\n",
            "\u001b[1m110/110\u001b[0m \u001b[32m━━━━━━━━━━━━━━━━━━━━\u001b[0m\u001b[37m\u001b[0m \u001b[1m1s\u001b[0m 4ms/step - loss: 1886.5510 - mae: 1886.5510 - val_loss: 2131.4390 - val_mae: 2131.4390\n",
            "Epoch 87/100\n",
            "\u001b[1m110/110\u001b[0m \u001b[32m━━━━━━━━━━━━━━━━━━━━\u001b[0m\u001b[37m\u001b[0m \u001b[1m1s\u001b[0m 4ms/step - loss: 1694.8494 - mae: 1694.8494 - val_loss: 2131.4390 - val_mae: 2131.4390\n",
            "Epoch 88/100\n",
            "\u001b[1m110/110\u001b[0m \u001b[32m━━━━━━━━━━━━━━━━━━━━\u001b[0m\u001b[37m\u001b[0m \u001b[1m0s\u001b[0m 4ms/step - loss: 1949.7324 - mae: 1949.7324 - val_loss: 2131.4390 - val_mae: 2131.4390\n",
            "Epoch 89/100\n",
            "\u001b[1m110/110\u001b[0m \u001b[32m━━━━━━━━━━━━━━━━━━━━\u001b[0m\u001b[37m\u001b[0m \u001b[1m1s\u001b[0m 4ms/step - loss: 1830.3300 - mae: 1830.3300 - val_loss: 2131.4390 - val_mae: 2131.4390\n",
            "Epoch 90/100\n",
            "\u001b[1m110/110\u001b[0m \u001b[32m━━━━━━━━━━━━━━━━━━━━\u001b[0m\u001b[37m\u001b[0m \u001b[1m0s\u001b[0m 4ms/step - loss: 1838.1775 - mae: 1838.1775 - val_loss: 2131.4390 - val_mae: 2131.4390\n",
            "Epoch 91/100\n",
            "\u001b[1m110/110\u001b[0m \u001b[32m━━━━━━━━━━━━━━━━━━━━\u001b[0m\u001b[37m\u001b[0m \u001b[1m0s\u001b[0m 4ms/step - loss: 1890.8898 - mae: 1890.8898 - val_loss: 2131.4390 - val_mae: 2131.4390\n",
            "Epoch 92/100\n",
            "\u001b[1m110/110\u001b[0m \u001b[32m━━━━━━━━━━━━━━━━━━━━\u001b[0m\u001b[37m\u001b[0m \u001b[1m0s\u001b[0m 4ms/step - loss: 1984.3047 - mae: 1984.3047 - val_loss: 2131.4390 - val_mae: 2131.4390\n",
            "Epoch 93/100\n",
            "\u001b[1m110/110\u001b[0m \u001b[32m━━━━━━━━━━━━━━━━━━━━\u001b[0m\u001b[37m\u001b[0m \u001b[1m1s\u001b[0m 4ms/step - loss: 1815.7009 - mae: 1815.7009 - val_loss: 2131.4390 - val_mae: 2131.4390\n",
            "Epoch 94/100\n",
            "\u001b[1m110/110\u001b[0m \u001b[32m━━━━━━━━━━━━━━━━━━━━\u001b[0m\u001b[37m\u001b[0m \u001b[1m0s\u001b[0m 3ms/step - loss: 2132.0303 - mae: 2132.0303 - val_loss: 2131.4390 - val_mae: 2131.4390\n",
            "Epoch 95/100\n",
            "\u001b[1m110/110\u001b[0m \u001b[32m━━━━━━━━━━━━━━━━━━━━\u001b[0m\u001b[37m\u001b[0m \u001b[1m0s\u001b[0m 3ms/step - loss: 1935.6364 - mae: 1935.6364 - val_loss: 2131.4390 - val_mae: 2131.4390\n",
            "Epoch 96/100\n",
            "\u001b[1m110/110\u001b[0m \u001b[32m━━━━━━━━━━━━━━━━━━━━\u001b[0m\u001b[37m\u001b[0m \u001b[1m0s\u001b[0m 4ms/step - loss: 1903.5547 - mae: 1903.5547 - val_loss: 2131.4390 - val_mae: 2131.4390\n",
            "Epoch 97/100\n",
            "\u001b[1m110/110\u001b[0m \u001b[32m━━━━━━━━━━━━━━━━━━━━\u001b[0m\u001b[37m\u001b[0m \u001b[1m0s\u001b[0m 4ms/step - loss: 1894.4738 - mae: 1894.4738 - val_loss: 2131.4390 - val_mae: 2131.4390\n",
            "Epoch 98/100\n",
            "\u001b[1m110/110\u001b[0m \u001b[32m━━━━━━━━━━━━━━━━━━━━\u001b[0m\u001b[37m\u001b[0m \u001b[1m0s\u001b[0m 3ms/step - loss: 1916.1115 - mae: 1916.1115 - val_loss: 2131.4390 - val_mae: 2131.4390\n",
            "Epoch 99/100\n",
            "\u001b[1m110/110\u001b[0m \u001b[32m━━━━━━━━━━━━━━━━━━━━\u001b[0m\u001b[37m\u001b[0m \u001b[1m0s\u001b[0m 4ms/step - loss: 1744.9491 - mae: 1744.9491 - val_loss: 2131.4390 - val_mae: 2131.4390\n",
            "Epoch 100/100\n",
            "\u001b[1m110/110\u001b[0m \u001b[32m━━━━━━━━━━━━━━━━━━━━\u001b[0m\u001b[37m\u001b[0m \u001b[1m1s\u001b[0m 4ms/step - loss: 1881.5823 - mae: 1881.5823 - val_loss: 2131.4390 - val_mae: 2131.4390\n",
            "\u001b[1m28/28\u001b[0m \u001b[32m━━━━━━━━━━━━━━━━━━━━\u001b[0m\u001b[37m\u001b[0m \u001b[1m0s\u001b[0m 3ms/step - loss: 3266.3989 - mae: 3266.3989\n",
            "Mean Absolute Error on test data: 2131.43896484375\n"
          ]
        }
      ]
    },
    {
      "cell_type": "code",
      "source": [
        "from sklearn.metrics import r2_score, mean_squared_error, mean_absolute_error\n",
        "import matplotlib.pyplot as plt\n",
        "\n",
        "y_pred = model.predict(X_test)\n",
        "\n",
        "\n",
        "# Plot actual vs predicted values\n",
        "plt.figure(figsize=(8, 6))\n",
        "plt.scatter(y_test, y_pred, alpha=0.5)\n",
        "plt.plot([y_test.min(), y_test.max()], [y_test.min(), y_test.max()], 'r--', lw=2)  # Diagonal line\n",
        "plt.xlabel(\"Actual Values (ytest)\")\n",
        "plt.ylabel(\"Predicted Values (ypred)\")\n",
        "plt.title(\"Actual vs Predicted Values\")\n",
        "plt.show()"
      ],
      "metadata": {
        "colab": {
          "base_uri": "https://localhost:8080/",
          "height": 582
        },
        "id": "oVRcuVK1_VCF",
        "outputId": "de940302-ded8-4015-d7b7-f12692bb0ffb"
      },
      "execution_count": 11,
      "outputs": [
        {
          "output_type": "stream",
          "name": "stdout",
          "text": [
            "\u001b[1m28/28\u001b[0m \u001b[32m━━━━━━━━━━━━━━━━━━━━\u001b[0m\u001b[37m\u001b[0m \u001b[1m0s\u001b[0m 2ms/step \n"
          ]
        },
        {
          "output_type": "display_data",
          "data": {
            "text/plain": [
              "<Figure size 800x600 with 1 Axes>"
            ],
            "image/png": "[encoded data removed]"
          },
          "metadata": {}
        }
      ]
    }
  ]
}
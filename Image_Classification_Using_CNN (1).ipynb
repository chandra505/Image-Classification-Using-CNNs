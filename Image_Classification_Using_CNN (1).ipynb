{
  "nbformat": 4,
  "nbformat_minor": 0,
  "metadata": {
    "colab": {
      "provenance": [],
      "gpuType": "T4"
    },
    "kernelspec": {
      "name": "python3",
      "display_name": "Python 3"
    },
    "language_info": {
      "name": "python"
    },
    "accelerator": "GPU"
  },
  "cells": [
    {
      "cell_type": "code",
      "source": [
        "# keras imports for the dataset and building our neural network\n",
        "from keras.datasets import cifar10\n",
        "from tensorflow.keras.models import Sequential\n",
        "from tensorflow.keras.layers import Dense, Dropout, Conv2D, MaxPool2D, Flatten\n",
        "from tensorflow.keras.utils import to_categorical"
      ],
      "metadata": {
        "id": "twT7x8Tu-lHP"
      },
      "execution_count": 2,
      "outputs": []
    },
    {
      "cell_type": "code",
      "source": [
        "# loading the dataset\n",
        "(X_train, y_train), (X_test, y_test) = cifar10.load_data()\n"
      ],
      "metadata": {
        "colab": {
          "base_uri": "https://localhost:8080/"
        },
        "id": "mM_H6EPH_cOy",
        "outputId": "6a2034f5-23f0-4a74-b40b-2c4b5c5a18cb"
      },
      "execution_count": 3,
      "outputs": [
        {
          "output_type": "stream",
          "name": "stdout",
          "text": [
            "Downloading data from https://www.cs.toronto.edu/~kriz/cifar-10-python.tar.gz\n",
            "\u001b[1m170498071/170498071\u001b[0m \u001b[32m━━━━━━━━━━━━━━━━━━━━\u001b[0m\u001b[37m\u001b[0m \u001b[1m14s\u001b[0m 0us/step\n"
          ]
        }
      ]
    },
    {
      "cell_type": "code",
      "source": [
        "# building the input vector from the 32x32 pixels\n",
        "X_train = X_train.reshape(X_train.shape[0], 32, 32, 3)\n",
        "X_test = X_test.reshape(X_test.shape[0], 32, 32, 3)\n",
        "X_train = X_train.astype('float32') / 255.0\n",
        "X_test = X_test.astype('float32') / 255.0\n"
      ],
      "metadata": {
        "id": "DHs8v9FS_pkI"
      },
      "execution_count": 4,
      "outputs": []
    },
    {
      "cell_type": "code",
      "source": [
        "X_train[:10]"
      ],
      "metadata": {
        "colab": {
          "base_uri": "https://localhost:8080/"
        },
        "id": "Ze5Ns1Oq_xUv",
        "outputId": "1ed42019-cfdf-4e51-f411-5ed0d888eb06"
      },
      "execution_count": 5,
      "outputs": [
        {
          "output_type": "execute_result",
          "data": {
            "text/plain": [
              "array([[[[0.23137255, 0.24313726, 0.24705882],\n",
              "         [0.16862746, 0.18039216, 0.1764706 ],\n",
              "         [0.19607843, 0.1882353 , 0.16862746],\n",
              "         ...,\n",
              "         [0.61960787, 0.5176471 , 0.42352942],\n",
              "         [0.59607846, 0.49019608, 0.4       ],\n",
              "         [0.5803922 , 0.4862745 , 0.40392157]],\n",
              "\n",
              "        [[0.0627451 , 0.07843138, 0.07843138],\n",
              "         [0.        , 0.        , 0.        ],\n",
              "         [0.07058824, 0.03137255, 0.        ],\n",
              "         ...,\n",
              "         [0.48235294, 0.34509805, 0.21568628],\n",
              "         [0.46666667, 0.3254902 , 0.19607843],\n",
              "         [0.47843137, 0.34117648, 0.22352941]],\n",
              "\n",
              "        [[0.09803922, 0.09411765, 0.08235294],\n",
              "         [0.0627451 , 0.02745098, 0.        ],\n",
              "         [0.19215687, 0.10588235, 0.03137255],\n",
              "         ...,\n",
              "         [0.4627451 , 0.32941177, 0.19607843],\n",
              "         [0.47058824, 0.32941177, 0.19607843],\n",
              "         [0.42745098, 0.28627452, 0.16470589]],\n",
              "\n",
              "        ...,\n",
              "\n",
              "        [[0.8156863 , 0.6666667 , 0.3764706 ],\n",
              "         [0.7882353 , 0.6       , 0.13333334],\n",
              "         [0.7764706 , 0.6313726 , 0.10196079],\n",
              "         ...,\n",
              "         [0.627451  , 0.52156866, 0.27450982],\n",
              "         [0.21960784, 0.12156863, 0.02745098],\n",
              "         [0.20784314, 0.13333334, 0.07843138]],\n",
              "\n",
              "        [[0.7058824 , 0.54509807, 0.3764706 ],\n",
              "         [0.6784314 , 0.48235294, 0.16470589],\n",
              "         [0.7294118 , 0.5647059 , 0.11764706],\n",
              "         ...,\n",
              "         [0.72156864, 0.5803922 , 0.36862746],\n",
              "         [0.38039216, 0.24313726, 0.13333334],\n",
              "         [0.3254902 , 0.20784314, 0.13333334]],\n",
              "\n",
              "        [[0.69411767, 0.5647059 , 0.45490196],\n",
              "         [0.65882355, 0.5058824 , 0.36862746],\n",
              "         [0.7019608 , 0.5568628 , 0.34117648],\n",
              "         ...,\n",
              "         [0.84705883, 0.72156864, 0.54901963],\n",
              "         [0.5921569 , 0.4627451 , 0.32941177],\n",
              "         [0.48235294, 0.36078432, 0.28235295]]],\n",
              "\n",
              "\n",
              "       [[[0.6039216 , 0.69411767, 0.73333335],\n",
              "         [0.49411765, 0.5372549 , 0.53333336],\n",
              "         [0.4117647 , 0.40784314, 0.37254903],\n",
              "         ...,\n",
              "         [0.35686275, 0.37254903, 0.2784314 ],\n",
              "         [0.34117648, 0.3529412 , 0.2784314 ],\n",
              "         [0.30980393, 0.31764707, 0.27450982]],\n",
              "\n",
              "        [[0.54901963, 0.627451  , 0.6627451 ],\n",
              "         [0.5686275 , 0.6       , 0.6039216 ],\n",
              "         [0.49019608, 0.49019608, 0.4627451 ],\n",
              "         ...,\n",
              "         [0.3764706 , 0.3882353 , 0.30588236],\n",
              "         [0.3019608 , 0.3137255 , 0.24313726],\n",
              "         [0.2784314 , 0.28627452, 0.23921569]],\n",
              "\n",
              "        [[0.54901963, 0.60784316, 0.6431373 ],\n",
              "         [0.54509807, 0.57254905, 0.58431375],\n",
              "         [0.4509804 , 0.4509804 , 0.4392157 ],\n",
              "         ...,\n",
              "         [0.30980393, 0.32156864, 0.2509804 ],\n",
              "         [0.26666668, 0.27450982, 0.21568628],\n",
              "         [0.2627451 , 0.27058825, 0.21568628]],\n",
              "\n",
              "        ...,\n",
              "\n",
              "        [[0.6862745 , 0.654902  , 0.6509804 ],\n",
              "         [0.6117647 , 0.6039216 , 0.627451  ],\n",
              "         [0.6039216 , 0.627451  , 0.6666667 ],\n",
              "         ...,\n",
              "         [0.16470589, 0.13333334, 0.14117648],\n",
              "         [0.23921569, 0.20784314, 0.22352941],\n",
              "         [0.3647059 , 0.3254902 , 0.35686275]],\n",
              "\n",
              "        [[0.64705884, 0.6039216 , 0.5019608 ],\n",
              "         [0.6117647 , 0.59607846, 0.50980395],\n",
              "         [0.62352943, 0.6313726 , 0.5568628 ],\n",
              "         ...,\n",
              "         [0.40392157, 0.3647059 , 0.3764706 ],\n",
              "         [0.48235294, 0.44705883, 0.47058824],\n",
              "         [0.5137255 , 0.4745098 , 0.5137255 ]],\n",
              "\n",
              "        [[0.6392157 , 0.5803922 , 0.47058824],\n",
              "         [0.61960787, 0.5803922 , 0.47843137],\n",
              "         [0.6392157 , 0.6117647 , 0.52156866],\n",
              "         ...,\n",
              "         [0.56078434, 0.52156866, 0.54509807],\n",
              "         [0.56078434, 0.5254902 , 0.5568628 ],\n",
              "         [0.56078434, 0.52156866, 0.5647059 ]]],\n",
              "\n",
              "\n",
              "       [[[1.        , 1.        , 1.        ],\n",
              "         [0.99215686, 0.99215686, 0.99215686],\n",
              "         [0.99215686, 0.99215686, 0.99215686],\n",
              "         ...,\n",
              "         [0.99215686, 0.99215686, 0.99215686],\n",
              "         [0.99215686, 0.99215686, 0.99215686],\n",
              "         [0.99215686, 0.99215686, 0.99215686]],\n",
              "\n",
              "        [[1.        , 1.        , 1.        ],\n",
              "         [1.        , 1.        , 1.        ],\n",
              "         [1.        , 1.        , 1.        ],\n",
              "         ...,\n",
              "         [1.        , 1.        , 1.        ],\n",
              "         [1.        , 1.        , 1.        ],\n",
              "         [1.        , 1.        , 1.        ]],\n",
              "\n",
              "        [[1.        , 1.        , 1.        ],\n",
              "         [0.99607843, 0.99607843, 0.99607843],\n",
              "         [0.99607843, 0.99607843, 0.99607843],\n",
              "         ...,\n",
              "         [0.99607843, 0.99607843, 0.99607843],\n",
              "         [0.99607843, 0.99607843, 0.99607843],\n",
              "         [0.99607843, 0.99607843, 0.99607843]],\n",
              "\n",
              "        ...,\n",
              "\n",
              "        [[0.44313726, 0.47058824, 0.4392157 ],\n",
              "         [0.43529412, 0.4627451 , 0.43529412],\n",
              "         [0.4117647 , 0.4392157 , 0.41568628],\n",
              "         ...,\n",
              "         [0.28235295, 0.31764707, 0.3137255 ],\n",
              "         [0.28235295, 0.3137255 , 0.30980393],\n",
              "         [0.28235295, 0.3137255 , 0.30980393]],\n",
              "\n",
              "        [[0.43529412, 0.4627451 , 0.43137255],\n",
              "         [0.40784314, 0.43529412, 0.40784314],\n",
              "         [0.3882353 , 0.41568628, 0.38431373],\n",
              "         ...,\n",
              "         [0.26666668, 0.29411766, 0.28627452],\n",
              "         [0.27450982, 0.29803923, 0.29411766],\n",
              "         [0.30588236, 0.32941177, 0.32156864]],\n",
              "\n",
              "        [[0.41568628, 0.44313726, 0.4117647 ],\n",
              "         [0.3882353 , 0.41568628, 0.38431373],\n",
              "         [0.37254903, 0.4       , 0.36862746],\n",
              "         ...,\n",
              "         [0.30588236, 0.33333334, 0.3254902 ],\n",
              "         [0.30980393, 0.33333334, 0.3254902 ],\n",
              "         [0.3137255 , 0.3372549 , 0.32941177]]],\n",
              "\n",
              "\n",
              "       ...,\n",
              "\n",
              "\n",
              "       [[[0.10980392, 0.13725491, 0.15294118],\n",
              "         [0.11764706, 0.13333334, 0.17254902],\n",
              "         [0.12941177, 0.17254902, 0.18431373],\n",
              "         ...,\n",
              "         [0.16862746, 0.21960784, 0.1764706 ],\n",
              "         [0.20392157, 0.2509804 , 0.20784314],\n",
              "         [0.18039216, 0.22745098, 0.18431373]],\n",
              "\n",
              "        [[0.10588235, 0.11764706, 0.14901961],\n",
              "         [0.10588235, 0.10980392, 0.16078432],\n",
              "         [0.08235294, 0.12156863, 0.15294118],\n",
              "         ...,\n",
              "         [0.4392157 , 0.53333336, 0.38039216],\n",
              "         [0.45882353, 0.54901963, 0.39607844],\n",
              "         [0.4509804 , 0.5411765 , 0.39215687]],\n",
              "\n",
              "        [[0.13333334, 0.14117648, 0.16470589],\n",
              "         [0.12941177, 0.12941177, 0.16862746],\n",
              "         [0.09411765, 0.11764706, 0.15686275],\n",
              "         ...,\n",
              "         [0.6862745 , 0.8156863 , 0.56078434],\n",
              "         [0.69411767, 0.81960785, 0.5647059 ],\n",
              "         [0.6901961 , 0.8156863 , 0.56078434]],\n",
              "\n",
              "        ...,\n",
              "\n",
              "        [[0.5568628 , 0.6901961 , 0.4627451 ],\n",
              "         [0.5568628 , 0.6901961 , 0.4627451 ],\n",
              "         [0.5882353 , 0.72156864, 0.49803922],\n",
              "         ...,\n",
              "         [0.5254902 , 0.6862745 , 0.46666667],\n",
              "         [0.5019608 , 0.65882355, 0.4392157 ],\n",
              "         [0.5254902 , 0.6862745 , 0.46666667]],\n",
              "\n",
              "        [[0.54901963, 0.6901961 , 0.4862745 ],\n",
              "         [0.5686275 , 0.7058824 , 0.5058824 ],\n",
              "         [0.5882353 , 0.7294118 , 0.5254902 ],\n",
              "         ...,\n",
              "         [0.5137255 , 0.6666667 , 0.46666667],\n",
              "         [0.50980395, 0.6666667 , 0.46666667],\n",
              "         [0.47843137, 0.63529414, 0.43529412]],\n",
              "\n",
              "        [[0.5254902 , 0.67058825, 0.48235294],\n",
              "         [0.53333336, 0.67058825, 0.4862745 ],\n",
              "         [0.53333336, 0.67058825, 0.4862745 ],\n",
              "         ...,\n",
              "         [0.41568628, 0.5647059 , 0.39215687],\n",
              "         [0.40784314, 0.5568628 , 0.3882353 ],\n",
              "         [0.39607844, 0.54901963, 0.3764706 ]]],\n",
              "\n",
              "\n",
              "       [[[0.5254902 , 0.7294118 , 0.8745098 ],\n",
              "         [0.5137255 , 0.72156864, 0.8627451 ],\n",
              "         [0.5019608 , 0.7137255 , 0.85490197],\n",
              "         ...,\n",
              "         [0.49803922, 0.70980394, 0.87058824],\n",
              "         [0.49803922, 0.70980394, 0.87058824],\n",
              "         [0.5019608 , 0.7137255 , 0.8745098 ]],\n",
              "\n",
              "        [[0.52156866, 0.7411765 , 0.89411765],\n",
              "         [0.5058824 , 0.7294118 , 0.8784314 ],\n",
              "         [0.5019608 , 0.7294118 , 0.8784314 ],\n",
              "         ...,\n",
              "         [0.49803922, 0.7176471 , 0.8784314 ],\n",
              "         [0.49803922, 0.7176471 , 0.8784314 ],\n",
              "         [0.5019608 , 0.72156864, 0.88235295]],\n",
              "\n",
              "        [[0.5019608 , 0.7254902 , 0.8862745 ],\n",
              "         [0.49803922, 0.7137255 , 0.8745098 ],\n",
              "         [0.5019608 , 0.7137255 , 0.8745098 ],\n",
              "         ...,\n",
              "         [0.49411765, 0.70980394, 0.87058824],\n",
              "         [0.49411765, 0.70980394, 0.87058824],\n",
              "         [0.49411765, 0.7058824 , 0.8666667 ]],\n",
              "\n",
              "        ...,\n",
              "\n",
              "        [[0.68235296, 0.8156863 , 0.92156863],\n",
              "         [0.67058825, 0.80784315, 0.8980392 ],\n",
              "         [0.60784316, 0.7411765 , 0.84705883],\n",
              "         ...,\n",
              "         [0.10588235, 0.36862746, 0.53333336],\n",
              "         [0.11372549, 0.3764706 , 0.5372549 ],\n",
              "         [0.10980392, 0.36862746, 0.53333336]],\n",
              "\n",
              "        [[0.7607843 , 0.8666667 , 0.95686275],\n",
              "         [0.7411765 , 0.84313726, 0.9372549 ],\n",
              "         [0.62352943, 0.76862746, 0.88235295],\n",
              "         ...,\n",
              "         [0.11764706, 0.37254903, 0.5411765 ],\n",
              "         [0.11764706, 0.3764706 , 0.54509807],\n",
              "         [0.11764706, 0.37254903, 0.54901963]],\n",
              "\n",
              "        [[0.75686276, 0.8509804 , 0.92941177],\n",
              "         [0.70980394, 0.8156863 , 0.9019608 ],\n",
              "         [0.65882355, 0.7882353 , 0.8901961 ],\n",
              "         ...,\n",
              "         [0.12156863, 0.36862746, 0.53333336],\n",
              "         [0.1254902 , 0.36862746, 0.5372549 ],\n",
              "         [0.1254902 , 0.36862746, 0.5411765 ]]],\n",
              "\n",
              "\n",
              "       [[[0.49019608, 0.49019608, 0.45490196],\n",
              "         [0.43137255, 0.39607844, 0.35686275],\n",
              "         [0.4       , 0.3529412 , 0.3254902 ],\n",
              "         ...,\n",
              "         [0.7921569 , 0.8117647 , 0.8392157 ],\n",
              "         [0.78431374, 0.8039216 , 0.83137256],\n",
              "         [0.7921569 , 0.8156863 , 0.8392157 ]],\n",
              "\n",
              "        [[0.5568628 , 0.57254905, 0.5568628 ],\n",
              "         [0.57254905, 0.5647059 , 0.54509807],\n",
              "         [0.6901961 , 0.6745098 , 0.6666667 ],\n",
              "         ...,\n",
              "         [0.7647059 , 0.7882353 , 0.8039216 ],\n",
              "         [0.7764706 , 0.8039216 , 0.81960785],\n",
              "         [0.8       , 0.827451  , 0.84313726]],\n",
              "\n",
              "        [[0.7058824 , 0.7254902 , 0.7176471 ],\n",
              "         [0.56078434, 0.57254905, 0.57254905],\n",
              "         [0.6117647 , 0.6156863 , 0.6156863 ],\n",
              "         ...,\n",
              "         [0.47843137, 0.43529412, 0.44313726],\n",
              "         [0.54509807, 0.5019608 , 0.5137255 ],\n",
              "         [0.61960787, 0.5764706 , 0.5882353 ]],\n",
              "\n",
              "        ...,\n",
              "\n",
              "        [[0.40784314, 0.32156864, 0.16078432],\n",
              "         [0.39607844, 0.3137255 , 0.15294118],\n",
              "         [0.39607844, 0.31764707, 0.14901961],\n",
              "         ...,\n",
              "         [0.49411765, 0.40392157, 0.2627451 ],\n",
              "         [0.49411765, 0.40392157, 0.27058825],\n",
              "         [0.49019608, 0.39607844, 0.26666668]],\n",
              "\n",
              "        [[0.40784314, 0.31764707, 0.15686275],\n",
              "         [0.4117647 , 0.32941177, 0.16078432],\n",
              "         [0.42745098, 0.34509805, 0.16862746],\n",
              "         ...,\n",
              "         [0.5411765 , 0.44313726, 0.30588236],\n",
              "         [0.5372549 , 0.44313726, 0.3137255 ],\n",
              "         [0.5372549 , 0.4392157 , 0.31764707]],\n",
              "\n",
              "        [[0.4117647 , 0.3254902 , 0.16470589],\n",
              "         [0.42352942, 0.34117648, 0.1764706 ],\n",
              "         [0.4509804 , 0.36862746, 0.19607843],\n",
              "         ...,\n",
              "         [0.56078434, 0.45882353, 0.32156864],\n",
              "         [0.56078434, 0.45490196, 0.32941177],\n",
              "         [0.5647059 , 0.45490196, 0.3372549 ]]]], dtype=float32)"
            ]
          },
          "metadata": {},
          "execution_count": 5
        }
      ]
    },
    {
      "cell_type": "code",
      "source": [
        "# one-hot encoding\n",
        "n_classes = 10\n",
        "print(\"Shape before one-hot encoding: \", y_train.shape)\n",
        "Y_train = to_categorical(y_train, n_classes)\n",
        "Y_test = to_categorical(y_test, n_classes)\n",
        "print(\"Shape after one-hot encoding: \", Y_train.shape)"
      ],
      "metadata": {
        "colab": {
          "base_uri": "https://localhost:8080/"
        },
        "id": "vGO_139yB70K",
        "outputId": "5481f252-addc-41aa-e4ca-1dfa55061abc"
      },
      "execution_count": 5,
      "outputs": [
        {
          "output_type": "stream",
          "name": "stdout",
          "text": [
            "Shape before one-hot encoding:  (50000, 1)\n",
            "Shape after one-hot encoding:  (50000, 10)\n"
          ]
        }
      ]
    },
    {
      "cell_type": "code",
      "source": [
        "# building a linear stack of layers with the sequential model\n",
        "model = Sequential()\n",
        "\n",
        "# convolutional layer\n",
        "model.add(Conv2D(50, kernel_size=(3,3), strides=(1,1), padding='same', activation='relu', input_shape=(32, 32, 3)))\n"
      ],
      "metadata": {
        "id": "9guiO1X5D5c9"
      },
      "execution_count": 21,
      "outputs": []
    },
    {
      "cell_type": "code",
      "source": [
        "# convolutional layer\n",
        "model.add(Conv2D(75, kernel_size=(3,3), strides=(1,1), padding='same', activation='relu'))\n",
        "model.add(MaxPool2D(pool_size=(2,2)))\n",
        "model.add(Dropout(0.25))\n",
        "\n",
        "model.add(Conv2D(125, kernel_size=(3,3), strides=(1,1), padding='same', activation='relu'))\n",
        "model.add(MaxPool2D(pool_size=(2,2)))\n",
        "model.add(Dropout(0.25))\n",
        "\n",
        "# flatten output of conv\n",
        "model.add(Flatten())"
      ],
      "metadata": {
        "id": "62id7BSxEGjv"
      },
      "execution_count": 22,
      "outputs": []
    },
    {
      "cell_type": "code",
      "source": [
        "\n"
      ],
      "metadata": {
        "id": "epRmlyDHE2o1"
      },
      "execution_count": 9,
      "outputs": []
    },
    {
      "cell_type": "code",
      "source": [
        "# hidden layer\n",
        "model.add(Dense(500, activation='relu'))\n",
        "model.add(Dropout(0.4))\n",
        "model.add(Dense(250, activation='relu'))\n",
        "model.add(Dropout(0.3))\n",
        "# output layer\n",
        "model.add(Dense(10, activation='softmax'))"
      ],
      "metadata": {
        "id": "WWBNO2vmF-36"
      },
      "execution_count": 10,
      "outputs": []
    },
    {
      "cell_type": "code",
      "source": [
        "model.summary()"
      ],
      "metadata": {
        "colab": {
          "base_uri": "https://localhost:8080/",
          "height": 562
        },
        "id": "coulyg43Lsrb",
        "outputId": "dd886ed8-2e4b-4ca1-e7cc-06a328359188"
      },
      "execution_count": 11,
      "outputs": [
        {
          "output_type": "display_data",
          "data": {
            "text/plain": [
              "\u001b[1mModel: \"sequential\"\u001b[0m\n"
            ],
            "text/html": [
              "<pre style=\"white-space:pre;overflow-x:auto;line-height:normal;font-family:Menlo,'DejaVu Sans Mono',consolas,'Courier New',monospace\"><span style=\"font-weight: bold\">Model: \"sequential\"</span>\n",
              "</pre>\n"
            ]
          },
          "metadata": {}
        },
        {
          "output_type": "display_data",
          "data": {
            "text/plain": [
              "┏━━━━━━━━━━━━━━━━━━━━━━━━━━━━━━━━━━━━━━┳━━━━━━━━━━━━━━━━━━━━━━━━━━━━━┳━━━━━━━━━━━━━━━━━┓\n",
              "┃\u001b[1m \u001b[0m\u001b[1mLayer (type)                        \u001b[0m\u001b[1m \u001b[0m┃\u001b[1m \u001b[0m\u001b[1mOutput Shape               \u001b[0m\u001b[1m \u001b[0m┃\u001b[1m \u001b[0m\u001b[1m        Param #\u001b[0m\u001b[1m \u001b[0m┃\n",
              "┡━━━━━━━━━━━━━━━━━━━━━━━━━━━━━━━━━━━━━━╇━━━━━━━━━━━━━━━━━━━━━━━━━━━━━╇━━━━━━━━━━━━━━━━━┩\n",
              "│ conv2d (\u001b[38;5;33mConv2D\u001b[0m)                      │ (\u001b[38;5;45mNone\u001b[0m, \u001b[38;5;34m32\u001b[0m, \u001b[38;5;34m32\u001b[0m, \u001b[38;5;34m50\u001b[0m)          │           \u001b[38;5;34m1,400\u001b[0m │\n",
              "├──────────────────────────────────────┼─────────────────────────────┼─────────────────┤\n",
              "│ conv2d_1 (\u001b[38;5;33mConv2D\u001b[0m)                    │ (\u001b[38;5;45mNone\u001b[0m, \u001b[38;5;34m32\u001b[0m, \u001b[38;5;34m32\u001b[0m, \u001b[38;5;34m75\u001b[0m)          │          \u001b[38;5;34m33,825\u001b[0m │\n",
              "├──────────────────────────────────────┼─────────────────────────────┼─────────────────┤\n",
              "│ max_pooling2d (\u001b[38;5;33mMaxPooling2D\u001b[0m)         │ (\u001b[38;5;45mNone\u001b[0m, \u001b[38;5;34m16\u001b[0m, \u001b[38;5;34m16\u001b[0m, \u001b[38;5;34m75\u001b[0m)          │               \u001b[38;5;34m0\u001b[0m │\n",
              "├──────────────────────────────────────┼─────────────────────────────┼─────────────────┤\n",
              "│ dropout (\u001b[38;5;33mDropout\u001b[0m)                    │ (\u001b[38;5;45mNone\u001b[0m, \u001b[38;5;34m16\u001b[0m, \u001b[38;5;34m16\u001b[0m, \u001b[38;5;34m75\u001b[0m)          │               \u001b[38;5;34m0\u001b[0m │\n",
              "├──────────────────────────────────────┼─────────────────────────────┼─────────────────┤\n",
              "│ conv2d_2 (\u001b[38;5;33mConv2D\u001b[0m)                    │ (\u001b[38;5;45mNone\u001b[0m, \u001b[38;5;34m16\u001b[0m, \u001b[38;5;34m16\u001b[0m, \u001b[38;5;34m125\u001b[0m)         │          \u001b[38;5;34m84,500\u001b[0m │\n",
              "├──────────────────────────────────────┼─────────────────────────────┼─────────────────┤\n",
              "│ max_pooling2d_1 (\u001b[38;5;33mMaxPooling2D\u001b[0m)       │ (\u001b[38;5;45mNone\u001b[0m, \u001b[38;5;34m8\u001b[0m, \u001b[38;5;34m8\u001b[0m, \u001b[38;5;34m125\u001b[0m)           │               \u001b[38;5;34m0\u001b[0m │\n",
              "├──────────────────────────────────────┼─────────────────────────────┼─────────────────┤\n",
              "│ dropout_1 (\u001b[38;5;33mDropout\u001b[0m)                  │ (\u001b[38;5;45mNone\u001b[0m, \u001b[38;5;34m8\u001b[0m, \u001b[38;5;34m8\u001b[0m, \u001b[38;5;34m125\u001b[0m)           │               \u001b[38;5;34m0\u001b[0m │\n",
              "├──────────────────────────────────────┼─────────────────────────────┼─────────────────┤\n",
              "│ flatten (\u001b[38;5;33mFlatten\u001b[0m)                    │ (\u001b[38;5;45mNone\u001b[0m, \u001b[38;5;34m8000\u001b[0m)                │               \u001b[38;5;34m0\u001b[0m │\n",
              "├──────────────────────────────────────┼─────────────────────────────┼─────────────────┤\n",
              "│ dense (\u001b[38;5;33mDense\u001b[0m)                        │ (\u001b[38;5;45mNone\u001b[0m, \u001b[38;5;34m500\u001b[0m)                 │       \u001b[38;5;34m4,000,500\u001b[0m │\n",
              "├──────────────────────────────────────┼─────────────────────────────┼─────────────────┤\n",
              "│ dropout_2 (\u001b[38;5;33mDropout\u001b[0m)                  │ (\u001b[38;5;45mNone\u001b[0m, \u001b[38;5;34m500\u001b[0m)                 │               \u001b[38;5;34m0\u001b[0m │\n",
              "├──────────────────────────────────────┼─────────────────────────────┼─────────────────┤\n",
              "│ dense_1 (\u001b[38;5;33mDense\u001b[0m)                      │ (\u001b[38;5;45mNone\u001b[0m, \u001b[38;5;34m250\u001b[0m)                 │         \u001b[38;5;34m125,250\u001b[0m │\n",
              "├──────────────────────────────────────┼─────────────────────────────┼─────────────────┤\n",
              "│ dropout_3 (\u001b[38;5;33mDropout\u001b[0m)                  │ (\u001b[38;5;45mNone\u001b[0m, \u001b[38;5;34m250\u001b[0m)                 │               \u001b[38;5;34m0\u001b[0m │\n",
              "├──────────────────────────────────────┼─────────────────────────────┼─────────────────┤\n",
              "│ dense_2 (\u001b[38;5;33mDense\u001b[0m)                      │ (\u001b[38;5;45mNone\u001b[0m, \u001b[38;5;34m10\u001b[0m)                  │           \u001b[38;5;34m2,510\u001b[0m │\n",
              "└──────────────────────────────────────┴─────────────────────────────┴─────────────────┘\n"
            ],
            "text/html": [
              "<pre style=\"white-space:pre;overflow-x:auto;line-height:normal;font-family:Menlo,'DejaVu Sans Mono',consolas,'Courier New',monospace\">┏━━━━━━━━━━━━━━━━━━━━━━━━━━━━━━━━━━━━━━┳━━━━━━━━━━━━━━━━━━━━━━━━━━━━━┳━━━━━━━━━━━━━━━━━┓\n",
              "┃<span style=\"font-weight: bold\"> Layer (type)                         </span>┃<span style=\"font-weight: bold\"> Output Shape                </span>┃<span style=\"font-weight: bold\">         Param # </span>┃\n",
              "┡━━━━━━━━━━━━━━━━━━━━━━━━━━━━━━━━━━━━━━╇━━━━━━━━━━━━━━━━━━━━━━━━━━━━━╇━━━━━━━━━━━━━━━━━┩\n",
              "│ conv2d (<span style=\"color: #0087ff; text-decoration-color: #0087ff\">Conv2D</span>)                      │ (<span style=\"color: #00d7ff; text-decoration-color: #00d7ff\">None</span>, <span style=\"color: #00af00; text-decoration-color: #00af00\">32</span>, <span style=\"color: #00af00; text-decoration-color: #00af00\">32</span>, <span style=\"color: #00af00; text-decoration-color: #00af00\">50</span>)          │           <span style=\"color: #00af00; text-decoration-color: #00af00\">1,400</span> │\n",
              "├──────────────────────────────────────┼─────────────────────────────┼─────────────────┤\n",
              "│ conv2d_1 (<span style=\"color: #0087ff; text-decoration-color: #0087ff\">Conv2D</span>)                    │ (<span style=\"color: #00d7ff; text-decoration-color: #00d7ff\">None</span>, <span style=\"color: #00af00; text-decoration-color: #00af00\">32</span>, <span style=\"color: #00af00; text-decoration-color: #00af00\">32</span>, <span style=\"color: #00af00; text-decoration-color: #00af00\">75</span>)          │          <span style=\"color: #00af00; text-decoration-color: #00af00\">33,825</span> │\n",
              "├──────────────────────────────────────┼─────────────────────────────┼─────────────────┤\n",
              "│ max_pooling2d (<span style=\"color: #0087ff; text-decoration-color: #0087ff\">MaxPooling2D</span>)         │ (<span style=\"color: #00d7ff; text-decoration-color: #00d7ff\">None</span>, <span style=\"color: #00af00; text-decoration-color: #00af00\">16</span>, <span style=\"color: #00af00; text-decoration-color: #00af00\">16</span>, <span style=\"color: #00af00; text-decoration-color: #00af00\">75</span>)          │               <span style=\"color: #00af00; text-decoration-color: #00af00\">0</span> │\n",
              "├──────────────────────────────────────┼─────────────────────────────┼─────────────────┤\n",
              "│ dropout (<span style=\"color: #0087ff; text-decoration-color: #0087ff\">Dropout</span>)                    │ (<span style=\"color: #00d7ff; text-decoration-color: #00d7ff\">None</span>, <span style=\"color: #00af00; text-decoration-color: #00af00\">16</span>, <span style=\"color: #00af00; text-decoration-color: #00af00\">16</span>, <span style=\"color: #00af00; text-decoration-color: #00af00\">75</span>)          │               <span style=\"color: #00af00; text-decoration-color: #00af00\">0</span> │\n",
              "├──────────────────────────────────────┼─────────────────────────────┼─────────────────┤\n",
              "│ conv2d_2 (<span style=\"color: #0087ff; text-decoration-color: #0087ff\">Conv2D</span>)                    │ (<span style=\"color: #00d7ff; text-decoration-color: #00d7ff\">None</span>, <span style=\"color: #00af00; text-decoration-color: #00af00\">16</span>, <span style=\"color: #00af00; text-decoration-color: #00af00\">16</span>, <span style=\"color: #00af00; text-decoration-color: #00af00\">125</span>)         │          <span style=\"color: #00af00; text-decoration-color: #00af00\">84,500</span> │\n",
              "├──────────────────────────────────────┼─────────────────────────────┼─────────────────┤\n",
              "│ max_pooling2d_1 (<span style=\"color: #0087ff; text-decoration-color: #0087ff\">MaxPooling2D</span>)       │ (<span style=\"color: #00d7ff; text-decoration-color: #00d7ff\">None</span>, <span style=\"color: #00af00; text-decoration-color: #00af00\">8</span>, <span style=\"color: #00af00; text-decoration-color: #00af00\">8</span>, <span style=\"color: #00af00; text-decoration-color: #00af00\">125</span>)           │               <span style=\"color: #00af00; text-decoration-color: #00af00\">0</span> │\n",
              "├──────────────────────────────────────┼─────────────────────────────┼─────────────────┤\n",
              "│ dropout_1 (<span style=\"color: #0087ff; text-decoration-color: #0087ff\">Dropout</span>)                  │ (<span style=\"color: #00d7ff; text-decoration-color: #00d7ff\">None</span>, <span style=\"color: #00af00; text-decoration-color: #00af00\">8</span>, <span style=\"color: #00af00; text-decoration-color: #00af00\">8</span>, <span style=\"color: #00af00; text-decoration-color: #00af00\">125</span>)           │               <span style=\"color: #00af00; text-decoration-color: #00af00\">0</span> │\n",
              "├──────────────────────────────────────┼─────────────────────────────┼─────────────────┤\n",
              "│ flatten (<span style=\"color: #0087ff; text-decoration-color: #0087ff\">Flatten</span>)                    │ (<span style=\"color: #00d7ff; text-decoration-color: #00d7ff\">None</span>, <span style=\"color: #00af00; text-decoration-color: #00af00\">8000</span>)                │               <span style=\"color: #00af00; text-decoration-color: #00af00\">0</span> │\n",
              "├──────────────────────────────────────┼─────────────────────────────┼─────────────────┤\n",
              "│ dense (<span style=\"color: #0087ff; text-decoration-color: #0087ff\">Dense</span>)                        │ (<span style=\"color: #00d7ff; text-decoration-color: #00d7ff\">None</span>, <span style=\"color: #00af00; text-decoration-color: #00af00\">500</span>)                 │       <span style=\"color: #00af00; text-decoration-color: #00af00\">4,000,500</span> │\n",
              "├──────────────────────────────────────┼─────────────────────────────┼─────────────────┤\n",
              "│ dropout_2 (<span style=\"color: #0087ff; text-decoration-color: #0087ff\">Dropout</span>)                  │ (<span style=\"color: #00d7ff; text-decoration-color: #00d7ff\">None</span>, <span style=\"color: #00af00; text-decoration-color: #00af00\">500</span>)                 │               <span style=\"color: #00af00; text-decoration-color: #00af00\">0</span> │\n",
              "├──────────────────────────────────────┼─────────────────────────────┼─────────────────┤\n",
              "│ dense_1 (<span style=\"color: #0087ff; text-decoration-color: #0087ff\">Dense</span>)                      │ (<span style=\"color: #00d7ff; text-decoration-color: #00d7ff\">None</span>, <span style=\"color: #00af00; text-decoration-color: #00af00\">250</span>)                 │         <span style=\"color: #00af00; text-decoration-color: #00af00\">125,250</span> │\n",
              "├──────────────────────────────────────┼─────────────────────────────┼─────────────────┤\n",
              "│ dropout_3 (<span style=\"color: #0087ff; text-decoration-color: #0087ff\">Dropout</span>)                  │ (<span style=\"color: #00d7ff; text-decoration-color: #00d7ff\">None</span>, <span style=\"color: #00af00; text-decoration-color: #00af00\">250</span>)                 │               <span style=\"color: #00af00; text-decoration-color: #00af00\">0</span> │\n",
              "├──────────────────────────────────────┼─────────────────────────────┼─────────────────┤\n",
              "│ dense_2 (<span style=\"color: #0087ff; text-decoration-color: #0087ff\">Dense</span>)                      │ (<span style=\"color: #00d7ff; text-decoration-color: #00d7ff\">None</span>, <span style=\"color: #00af00; text-decoration-color: #00af00\">10</span>)                  │           <span style=\"color: #00af00; text-decoration-color: #00af00\">2,510</span> │\n",
              "└──────────────────────────────────────┴─────────────────────────────┴─────────────────┘\n",
              "</pre>\n"
            ]
          },
          "metadata": {}
        },
        {
          "output_type": "display_data",
          "data": {
            "text/plain": [
              "\u001b[1m Total params: \u001b[0m\u001b[38;5;34m4,247,985\u001b[0m (16.20 MB)\n"
            ],
            "text/html": [
              "<pre style=\"white-space:pre;overflow-x:auto;line-height:normal;font-family:Menlo,'DejaVu Sans Mono',consolas,'Courier New',monospace\"><span style=\"font-weight: bold\"> Total params: </span><span style=\"color: #00af00; text-decoration-color: #00af00\">4,247,985</span> (16.20 MB)\n",
              "</pre>\n"
            ]
          },
          "metadata": {}
        },
        {
          "output_type": "display_data",
          "data": {
            "text/plain": [
              "\u001b[1m Trainable params: \u001b[0m\u001b[38;5;34m4,247,985\u001b[0m (16.20 MB)\n"
            ],
            "text/html": [
              "<pre style=\"white-space:pre;overflow-x:auto;line-height:normal;font-family:Menlo,'DejaVu Sans Mono',consolas,'Courier New',monospace\"><span style=\"font-weight: bold\"> Trainable params: </span><span style=\"color: #00af00; text-decoration-color: #00af00\">4,247,985</span> (16.20 MB)\n",
              "</pre>\n"
            ]
          },
          "metadata": {}
        },
        {
          "output_type": "display_data",
          "data": {
            "text/plain": [
              "\u001b[1m Non-trainable params: \u001b[0m\u001b[38;5;34m0\u001b[0m (0.00 B)\n"
            ],
            "text/html": [
              "<pre style=\"white-space:pre;overflow-x:auto;line-height:normal;font-family:Menlo,'DejaVu Sans Mono',consolas,'Courier New',monospace\"><span style=\"font-weight: bold\"> Non-trainable params: </span><span style=\"color: #00af00; text-decoration-color: #00af00\">0</span> (0.00 B)\n",
              "</pre>\n"
            ]
          },
          "metadata": {}
        }
      ]
    },
    {
      "cell_type": "code",
      "source": [
        "# compiling the sequential model\n",
        "model.compile(loss='categorical_crossentropy', metrics=['accuracy'], optimizer='adam')"
      ],
      "metadata": {
        "id": "dcyydQxmHEEf"
      },
      "execution_count": 12,
      "outputs": []
    },
    {
      "cell_type": "code",
      "source": [
        "# training the model for 30 epochs\n",
        "model.fit(X_train, Y_train, batch_size=128, epochs=30, validation_data=(X_test, Y_test))"
      ],
      "metadata": {
        "colab": {
          "base_uri": "https://localhost:8080/"
        },
        "id": "g5Bpvk2mHFsZ",
        "outputId": "889ac556-90de-4fc3-d6d9-439d5ebdfede"
      },
      "execution_count": 13,
      "outputs": [
        {
          "output_type": "stream",
          "name": "stdout",
          "text": [
            "Epoch 1/30\n",
            "\u001b[1m391/391\u001b[0m \u001b[32m━━━━━━━━━━━━━━━━━━━━\u001b[0m\u001b[37m\u001b[0m \u001b[1m23s\u001b[0m 37ms/step - accuracy: 0.3010 - loss: 1.8739 - val_accuracy: 0.5673 - val_loss: 1.2179\n",
            "Epoch 2/30\n",
            "\u001b[1m391/391\u001b[0m \u001b[32m━━━━━━━━━━━━━━━━━━━━\u001b[0m\u001b[37m\u001b[0m \u001b[1m28s\u001b[0m 20ms/step - accuracy: 0.5871 - loss: 1.1624 - val_accuracy: 0.6823 - val_loss: 0.9100\n",
            "Epoch 3/30\n",
            "\u001b[1m391/391\u001b[0m \u001b[32m━━━━━━━━━━━━━━━━━━━━\u001b[0m\u001b[37m\u001b[0m \u001b[1m10s\u001b[0m 20ms/step - accuracy: 0.6751 - loss: 0.9289 - val_accuracy: 0.7208 - val_loss: 0.8007\n",
            "Epoch 4/30\n",
            "\u001b[1m391/391\u001b[0m \u001b[32m━━━━━━━━━━━━━━━━━━━━\u001b[0m\u001b[37m\u001b[0m \u001b[1m10s\u001b[0m 20ms/step - accuracy: 0.7240 - loss: 0.7971 - val_accuracy: 0.7356 - val_loss: 0.7625\n",
            "Epoch 5/30\n",
            "\u001b[1m391/391\u001b[0m \u001b[32m━━━━━━━━━━━━━━━━━━━━\u001b[0m\u001b[37m\u001b[0m \u001b[1m10s\u001b[0m 20ms/step - accuracy: 0.7505 - loss: 0.7150 - val_accuracy: 0.7499 - val_loss: 0.7270\n",
            "Epoch 6/30\n",
            "\u001b[1m391/391\u001b[0m \u001b[32m━━━━━━━━━━━━━━━━━━━━\u001b[0m\u001b[37m\u001b[0m \u001b[1m10s\u001b[0m 21ms/step - accuracy: 0.7763 - loss: 0.6396 - val_accuracy: 0.7501 - val_loss: 0.7299\n",
            "Epoch 7/30\n",
            "\u001b[1m391/391\u001b[0m \u001b[32m━━━━━━━━━━━━━━━━━━━━\u001b[0m\u001b[37m\u001b[0m \u001b[1m10s\u001b[0m 21ms/step - accuracy: 0.7955 - loss: 0.5819 - val_accuracy: 0.7687 - val_loss: 0.6678\n",
            "Epoch 8/30\n",
            "\u001b[1m391/391\u001b[0m \u001b[32m━━━━━━━━━━━━━━━━━━━━\u001b[0m\u001b[37m\u001b[0m \u001b[1m10s\u001b[0m 20ms/step - accuracy: 0.8118 - loss: 0.5330 - val_accuracy: 0.7780 - val_loss: 0.6623\n",
            "Epoch 9/30\n",
            "\u001b[1m391/391\u001b[0m \u001b[32m━━━━━━━━━━━━━━━━━━━━\u001b[0m\u001b[37m\u001b[0m \u001b[1m10s\u001b[0m 20ms/step - accuracy: 0.8264 - loss: 0.4926 - val_accuracy: 0.7773 - val_loss: 0.6597\n",
            "Epoch 10/30\n",
            "\u001b[1m391/391\u001b[0m \u001b[32m━━━━━━━━━━━━━━━━━━━━\u001b[0m\u001b[37m\u001b[0m \u001b[1m10s\u001b[0m 20ms/step - accuracy: 0.8402 - loss: 0.4530 - val_accuracy: 0.7801 - val_loss: 0.6563\n",
            "Epoch 11/30\n",
            "\u001b[1m391/391\u001b[0m \u001b[32m━━━━━━━━━━━━━━━━━━━━\u001b[0m\u001b[37m\u001b[0m \u001b[1m10s\u001b[0m 20ms/step - accuracy: 0.8538 - loss: 0.4158 - val_accuracy: 0.7799 - val_loss: 0.6559\n",
            "Epoch 12/30\n",
            "\u001b[1m391/391\u001b[0m \u001b[32m━━━━━━━━━━━━━━━━━━━━\u001b[0m\u001b[37m\u001b[0m \u001b[1m8s\u001b[0m 20ms/step - accuracy: 0.8634 - loss: 0.3911 - val_accuracy: 0.7856 - val_loss: 0.6735\n",
            "Epoch 13/30\n",
            "\u001b[1m391/391\u001b[0m \u001b[32m━━━━━━━━━━━━━━━━━━━━\u001b[0m\u001b[37m\u001b[0m \u001b[1m10s\u001b[0m 20ms/step - accuracy: 0.8715 - loss: 0.3619 - val_accuracy: 0.7920 - val_loss: 0.6488\n",
            "Epoch 14/30\n",
            "\u001b[1m391/391\u001b[0m \u001b[32m━━━━━━━━━━━━━━━━━━━━\u001b[0m\u001b[37m\u001b[0m \u001b[1m10s\u001b[0m 20ms/step - accuracy: 0.8742 - loss: 0.3523 - val_accuracy: 0.7866 - val_loss: 0.6731\n",
            "Epoch 15/30\n",
            "\u001b[1m391/391\u001b[0m \u001b[32m━━━━━━━━━━━━━━━━━━━━\u001b[0m\u001b[37m\u001b[0m \u001b[1m10s\u001b[0m 20ms/step - accuracy: 0.8806 - loss: 0.3377 - val_accuracy: 0.7923 - val_loss: 0.6616\n",
            "Epoch 16/30\n",
            "\u001b[1m391/391\u001b[0m \u001b[32m━━━━━━━━━━━━━━━━━━━━\u001b[0m\u001b[37m\u001b[0m \u001b[1m10s\u001b[0m 20ms/step - accuracy: 0.8874 - loss: 0.3116 - val_accuracy: 0.7874 - val_loss: 0.7018\n",
            "Epoch 17/30\n",
            "\u001b[1m391/391\u001b[0m \u001b[32m━━━━━━━━━━━━━━━━━━━━\u001b[0m\u001b[37m\u001b[0m \u001b[1m8s\u001b[0m 20ms/step - accuracy: 0.8935 - loss: 0.3019 - val_accuracy: 0.7899 - val_loss: 0.6721\n",
            "Epoch 18/30\n",
            "\u001b[1m391/391\u001b[0m \u001b[32m━━━━━━━━━━━━━━━━━━━━\u001b[0m\u001b[37m\u001b[0m \u001b[1m10s\u001b[0m 20ms/step - accuracy: 0.8983 - loss: 0.2888 - val_accuracy: 0.7855 - val_loss: 0.6838\n",
            "Epoch 19/30\n",
            "\u001b[1m391/391\u001b[0m \u001b[32m━━━━━━━━━━━━━━━━━━━━\u001b[0m\u001b[37m\u001b[0m \u001b[1m10s\u001b[0m 20ms/step - accuracy: 0.9054 - loss: 0.2729 - val_accuracy: 0.7893 - val_loss: 0.7138\n",
            "Epoch 20/30\n",
            "\u001b[1m391/391\u001b[0m \u001b[32m━━━━━━━━━━━━━━━━━━━━\u001b[0m\u001b[37m\u001b[0m \u001b[1m10s\u001b[0m 20ms/step - accuracy: 0.9065 - loss: 0.2673 - val_accuracy: 0.7852 - val_loss: 0.7225\n",
            "Epoch 21/30\n",
            "\u001b[1m391/391\u001b[0m \u001b[32m━━━━━━━━━━━━━━━━━━━━\u001b[0m\u001b[37m\u001b[0m \u001b[1m8s\u001b[0m 20ms/step - accuracy: 0.9119 - loss: 0.2525 - val_accuracy: 0.7903 - val_loss: 0.7073\n",
            "Epoch 22/30\n",
            "\u001b[1m391/391\u001b[0m \u001b[32m━━━━━━━━━━━━━━━━━━━━\u001b[0m\u001b[37m\u001b[0m \u001b[1m8s\u001b[0m 20ms/step - accuracy: 0.9142 - loss: 0.2427 - val_accuracy: 0.7895 - val_loss: 0.7138\n",
            "Epoch 23/30\n",
            "\u001b[1m391/391\u001b[0m \u001b[32m━━━━━━━━━━━━━━━━━━━━\u001b[0m\u001b[37m\u001b[0m \u001b[1m8s\u001b[0m 20ms/step - accuracy: 0.9163 - loss: 0.2432 - val_accuracy: 0.7913 - val_loss: 0.7169\n",
            "Epoch 24/30\n",
            "\u001b[1m391/391\u001b[0m \u001b[32m━━━━━━━━━━━━━━━━━━━━\u001b[0m\u001b[37m\u001b[0m \u001b[1m8s\u001b[0m 20ms/step - accuracy: 0.9207 - loss: 0.2260 - val_accuracy: 0.7858 - val_loss: 0.7380\n",
            "Epoch 25/30\n",
            "\u001b[1m391/391\u001b[0m \u001b[32m━━━━━━━━━━━━━━━━━━━━\u001b[0m\u001b[37m\u001b[0m \u001b[1m10s\u001b[0m 20ms/step - accuracy: 0.9218 - loss: 0.2290 - val_accuracy: 0.7838 - val_loss: 0.7377\n",
            "Epoch 26/30\n",
            "\u001b[1m391/391\u001b[0m \u001b[32m━━━━━━━━━━━━━━━━━━━━\u001b[0m\u001b[37m\u001b[0m \u001b[1m10s\u001b[0m 20ms/step - accuracy: 0.9233 - loss: 0.2207 - val_accuracy: 0.7954 - val_loss: 0.7264\n",
            "Epoch 27/30\n",
            "\u001b[1m391/391\u001b[0m \u001b[32m━━━━━━━━━━━━━━━━━━━━\u001b[0m\u001b[37m\u001b[0m \u001b[1m10s\u001b[0m 20ms/step - accuracy: 0.9247 - loss: 0.2129 - val_accuracy: 0.7928 - val_loss: 0.7236\n",
            "Epoch 28/30\n",
            "\u001b[1m391/391\u001b[0m \u001b[32m━━━━━━━━━━━━━━━━━━━━\u001b[0m\u001b[37m\u001b[0m \u001b[1m8s\u001b[0m 19ms/step - accuracy: 0.9269 - loss: 0.2078 - val_accuracy: 0.7956 - val_loss: 0.7391\n",
            "Epoch 29/30\n",
            "\u001b[1m391/391\u001b[0m \u001b[32m━━━━━━━━━━━━━━━━━━━━\u001b[0m\u001b[37m\u001b[0m \u001b[1m8s\u001b[0m 20ms/step - accuracy: 0.9300 - loss: 0.2015 - val_accuracy: 0.7975 - val_loss: 0.7208\n",
            "Epoch 30/30\n",
            "\u001b[1m391/391\u001b[0m \u001b[32m━━━━━━━━━━━━━━━━━━━━\u001b[0m\u001b[37m\u001b[0m \u001b[1m10s\u001b[0m 20ms/step - accuracy: 0.9314 - loss: 0.1999 - val_accuracy: 0.7934 - val_loss: 0.7455\n"
          ]
        },
        {
          "output_type": "execute_result",
          "data": {
            "text/plain": [
              "<keras.src.callbacks.history.History at 0x7df5eb7a43d0>"
            ]
          },
          "metadata": {},
          "execution_count": 13
        }
      ]
    },
    {
      "cell_type": "code",
      "source": [
        "\n",
        "class_labels = ['airplane', 'automobile', 'bird', 'cat', 'deer', 'dog', 'frog', 'horse', 'ship', 'truck']"
      ],
      "metadata": {
        "id": "5Wei3tFJNNV6"
      },
      "execution_count": 14,
      "outputs": []
    },
    {
      "cell_type": "code",
      "source": [
        "from PIL import Image\n",
        "import numpy as np\n",
        "import matplotlib.pyplot as plt\n",
        "\n",
        "# Load and preprocess the image\n",
        "img = Image.open('/content/airplane.webp')\n",
        "img = img.resize((32, 32))\n",
        "img_array = np.array(img)\n",
        "img_array = img_array.astype('float32') / 255.0\n",
        "\n",
        "# Reshape for model input\n",
        "img_array = img_array.reshape(1, 32, 32, 3)\n",
        "\n",
        "# Make a prediction\n",
        "predictions = model.predict(img_array)\n",
        "predicted_class = np.argmax(predictions)\n",
        "predicted_label = class_labels[predicted_class]\n",
        "\n",
        "# Display the image with the predicted label\n",
        "plt.imshow(img)\n",
        "plt.axis('off')\n",
        "plt.title(f\"Predicted label: {predicted_label}\", fontsize=12, fontweight='bold')\n",
        "plt.show()\n",
        "\n",
        "print(\"Predicted label:\", predicted_label)\n"
      ],
      "metadata": {
        "colab": {
          "base_uri": "https://localhost:8080/",
          "height": 464
        },
        "id": "7FVs98r6L4CF",
        "outputId": "72543893-dc9f-41fc-acf0-759a82b96168"
      },
      "execution_count": 16,
      "outputs": [
        {
          "output_type": "stream",
          "name": "stdout",
          "text": [
            "\u001b[1m1/1\u001b[0m \u001b[32m━━━━━━━━━━━━━━━━━━━━\u001b[0m\u001b[37m\u001b[0m \u001b[1m0s\u001b[0m 32ms/step\n"
          ]
        },
        {
          "output_type": "display_data",
          "data": {
            "text/plain": [
              "<Figure size 640x480 with 1 Axes>"
            ],
            "image/png": "[encoded data removed]"
          },
          "metadata": {}
        },
        {
          "output_type": "stream",
          "name": "stdout",
          "text": [
            "Predicted label: airplane\n"
          ]
        }
      ]
    }
  ]
}